{
 "cells": [
  {
   "cell_type": "code",
   "execution_count": 112,
   "id": "f1babb53-287c-4224-8a5e-c98ea47b0eb3",
   "metadata": {},
   "outputs": [],
   "source": [
    "import os\n",
    "import time\n",
    "import itertools\n",
    "import cv2 as cv\n",
    "import numpy as np\n",
    "import pandas as pd\n",
    "import tensorflow as tf"
   ]
  },
  {
   "cell_type": "code",
   "execution_count": 207,
   "id": "3ae14af4-90ad-47e5-aa74-9bbd826a347b",
   "metadata": {},
   "outputs": [],
   "source": [
    "folder = 'Train'\n",
    "folder_with_new_images = 'new_train'\n",
    "csv = 'train.csv'\n",
    "csv_for_new_images = 'new_train.csv'"
   ]
  },
  {
   "cell_type": "code",
   "execution_count": 212,
   "id": "4327ae7f-9bdc-4de3-8c72-becc06bacd72",
   "metadata": {},
   "outputs": [],
   "source": [
    "class Preprocessing:\n",
    "    def __init__(self, data_path, csv_path):\n",
    "        self.data_path = data_path\n",
    "        self.images = [f'{data_path}/{image_path}' for image_path in os.listdir(data_path)]\n",
    "        self.image_nr = 0\n",
    "        self.df = pd.read_csv(csv_path)\n",
    "\n",
    "    def show_image(self, image):\n",
    "        cv.imshow('Image', image)\n",
    "        cv.waitKey(0) \n",
    "        cv.destroyAllWindows() \n",
    "\n",
    "    def crop_images(self, image):\n",
    "        image_half = int(image.shape[0]/2)\n",
    "        topleft_image = image[0:image_half, 0:image_half]\n",
    "        topright_image = image[0:image_half, image_half-1:-1]\n",
    "        bottomleft_image = image[image_half-1:-1, 0:image_half]\n",
    "        bottomright_image = image[image_half-1:-1, image_half-1:-1]\n",
    "        return (topleft_image, topright_image, bottomleft_image, bottomright_image)\n",
    "        \n",
    "    def create_permutations(self, image):\n",
    "        topleft, topright, bottomleft, bottomright = self.crop_images(image)\n",
    "        perms = list(itertools.permutations([topleft, topright, bottomleft, bottomright]))\n",
    "        for permutation in perms:\n",
    "            top_image = np.concatenate((permutation[0], permutation[1]), axis=1)\n",
    "            bottom_image = np.concatenate((permutation[2], permutation[3]), axis=1)\n",
    "            image = np.concatenate((top_image, bottom_image), axis=0)\n",
    "            cv.imwrite(f'{folder_with_new_images}/{self.image_nr}.jpg', image)\n",
    "            self.image_nr += 1\n",
    "            \n",
    "    def get_new_images(self):\n",
    "        for image_path in self.images:\n",
    "            image = cv.imread(image_path)\n",
    "            self.create_permutations(image)\n",
    "\n",
    "        for image_path in self.images:\n",
    "            image = cv.imread(image_path)\n",
    "            image = cv.flip(image, 1)\n",
    "            self.create_permutations(image)\n",
    "\n",
    "    def get_new_train_csv(self):\n",
    "        df_duplicates = self.df.reindex(self.df.index.repeat(24)).reset_index(drop=True)\n",
    "\n",
    "        df_duplicates = pd.concat([df_duplicates, df_duplicates])\n",
    "        df_duplicates['House ID'] = range(0, len(df_duplicates))\n",
    "        \n",
    "        df_duplicates = df_duplicates.reset_index(drop=True)\n",
    "        df_duplicates.to_csv(csv_for_new_images, index=False)\n",
    "            "
   ]
  },
  {
   "cell_type": "code",
   "execution_count": 213,
   "id": "ddd5f5b3-6f16-48b4-870c-40555fdbe86d",
   "metadata": {},
   "outputs": [],
   "source": [
    "pp = Preprocessing(folder, csv)"
   ]
  },
  {
   "cell_type": "code",
   "execution_count": 214,
   "id": "0cc28891-30ac-46df-b172-45a3a5dc09f2",
   "metadata": {},
   "outputs": [],
   "source": [
    "# pp.get_new_images()"
   ]
  },
  {
   "cell_type": "code",
   "execution_count": 215,
   "id": "da1751ab-d280-4de3-9d65-6d858c071ccf",
   "metadata": {},
   "outputs": [],
   "source": [
    "pp.get_new_train_csv()"
   ]
  },
  {
   "cell_type": "code",
   "execution_count": null,
   "id": "216ed2bc-0de2-473d-bf9b-d411889680fa",
   "metadata": {},
   "outputs": [],
   "source": []
  }
 ],
 "metadata": {
  "kernelspec": {
   "display_name": "Python 3 (ipykernel)",
   "language": "python",
   "name": "python3"
  },
  "language_info": {
   "codemirror_mode": {
    "name": "ipython",
    "version": 3
   },
   "file_extension": ".py",
   "mimetype": "text/x-python",
   "name": "python",
   "nbconvert_exporter": "python",
   "pygments_lexer": "ipython3",
   "version": "3.10.0"
  }
 },
 "nbformat": 4,
 "nbformat_minor": 5
}
